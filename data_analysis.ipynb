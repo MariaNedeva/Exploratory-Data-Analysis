{
 "cells": [
  {
   "cell_type": "code",
   "execution_count": 25,
   "metadata": {},
   "outputs": [],
   "source": [
    "#import libraries\n",
    "\n",
    "import pandas as pd\n",
    "import numpy as np\n",
    "import seaborn as sns\n",
    "import matplotlib.pyplot as plt"
   ]
  },
  {
   "cell_type": "code",
   "execution_count": 70,
   "metadata": {},
   "outputs": [],
   "source": [
    "#import dataset\n",
    "data = pd.read_csv(r'resturants\\zomato.csv')"
   ]
  },
  {
   "cell_type": "markdown",
   "metadata": {},
   "source": [
    "Initial EDA data reprocessing"
   ]
  },
  {
   "cell_type": "code",
   "execution_count": 71,
   "metadata": {},
   "outputs": [
    {
     "data": {
      "text/plain": [
       "Unnamed: 0.1               int64\n",
       "Unnamed: 0                 int64\n",
       "restaurant name           object\n",
       "restaurant type           object\n",
       "rate (out of 5)          float64\n",
       "num of ratings             int64\n",
       "avg cost (two people)    float64\n",
       "online_order              object\n",
       "table booking             object\n",
       "cuisines type             object\n",
       "area                      object\n",
       "local address             object\n",
       "dtype: object"
      ]
     },
     "execution_count": 71,
     "metadata": {},
     "output_type": "execute_result"
    }
   ],
   "source": [
    "#type of variavles in the data\n",
    "\n",
    "data.dtypes"
   ]
  },
  {
   "cell_type": "code",
   "execution_count": 72,
   "metadata": {},
   "outputs": [
    {
     "data": {
      "text/html": [
       "<div>\n",
       "<style scoped>\n",
       "    .dataframe tbody tr th:only-of-type {\n",
       "        vertical-align: middle;\n",
       "    }\n",
       "\n",
       "    .dataframe tbody tr th {\n",
       "        vertical-align: top;\n",
       "    }\n",
       "\n",
       "    .dataframe thead th {\n",
       "        text-align: right;\n",
       "    }\n",
       "</style>\n",
       "<table border=\"1\" class=\"dataframe\">\n",
       "  <thead>\n",
       "    <tr style=\"text-align: right;\">\n",
       "      <th></th>\n",
       "      <th>Unnamed: 0.1</th>\n",
       "      <th>Unnamed: 0</th>\n",
       "      <th>rate (out of 5)</th>\n",
       "      <th>num of ratings</th>\n",
       "      <th>avg cost (two people)</th>\n",
       "    </tr>\n",
       "  </thead>\n",
       "  <tbody>\n",
       "    <tr>\n",
       "      <th>count</th>\n",
       "      <td>7105.000000</td>\n",
       "      <td>7105.000000</td>\n",
       "      <td>7037.000000</td>\n",
       "      <td>7105.000000</td>\n",
       "      <td>7048.000000</td>\n",
       "    </tr>\n",
       "    <tr>\n",
       "      <th>mean</th>\n",
       "      <td>3552.000000</td>\n",
       "      <td>3552.000000</td>\n",
       "      <td>3.514253</td>\n",
       "      <td>188.921042</td>\n",
       "      <td>540.286464</td>\n",
       "    </tr>\n",
       "    <tr>\n",
       "      <th>std</th>\n",
       "      <td>2051.181164</td>\n",
       "      <td>2051.181164</td>\n",
       "      <td>0.463249</td>\n",
       "      <td>592.171049</td>\n",
       "      <td>462.902305</td>\n",
       "    </tr>\n",
       "    <tr>\n",
       "      <th>min</th>\n",
       "      <td>0.000000</td>\n",
       "      <td>0.000000</td>\n",
       "      <td>1.800000</td>\n",
       "      <td>1.000000</td>\n",
       "      <td>40.000000</td>\n",
       "    </tr>\n",
       "    <tr>\n",
       "      <th>25%</th>\n",
       "      <td>1776.000000</td>\n",
       "      <td>1776.000000</td>\n",
       "      <td>3.200000</td>\n",
       "      <td>16.000000</td>\n",
       "      <td>300.000000</td>\n",
       "    </tr>\n",
       "    <tr>\n",
       "      <th>50%</th>\n",
       "      <td>3552.000000</td>\n",
       "      <td>3552.000000</td>\n",
       "      <td>3.500000</td>\n",
       "      <td>40.000000</td>\n",
       "      <td>400.000000</td>\n",
       "    </tr>\n",
       "    <tr>\n",
       "      <th>75%</th>\n",
       "      <td>5328.000000</td>\n",
       "      <td>5328.000000</td>\n",
       "      <td>3.800000</td>\n",
       "      <td>128.000000</td>\n",
       "      <td>600.000000</td>\n",
       "    </tr>\n",
       "    <tr>\n",
       "      <th>max</th>\n",
       "      <td>7104.000000</td>\n",
       "      <td>7104.000000</td>\n",
       "      <td>4.900000</td>\n",
       "      <td>16345.000000</td>\n",
       "      <td>6000.000000</td>\n",
       "    </tr>\n",
       "  </tbody>\n",
       "</table>\n",
       "</div>"
      ],
      "text/plain": [
       "       Unnamed: 0.1   Unnamed: 0  rate (out of 5)  num of ratings  \\\n",
       "count   7105.000000  7105.000000      7037.000000     7105.000000   \n",
       "mean    3552.000000  3552.000000         3.514253      188.921042   \n",
       "std     2051.181164  2051.181164         0.463249      592.171049   \n",
       "min        0.000000     0.000000         1.800000        1.000000   \n",
       "25%     1776.000000  1776.000000         3.200000       16.000000   \n",
       "50%     3552.000000  3552.000000         3.500000       40.000000   \n",
       "75%     5328.000000  5328.000000         3.800000      128.000000   \n",
       "max     7104.000000  7104.000000         4.900000    16345.000000   \n",
       "\n",
       "       avg cost (two people)  \n",
       "count            7048.000000  \n",
       "mean              540.286464  \n",
       "std               462.902305  \n",
       "min                40.000000  \n",
       "25%               300.000000  \n",
       "50%               400.000000  \n",
       "75%               600.000000  \n",
       "max              6000.000000  "
      ]
     },
     "execution_count": 72,
     "metadata": {},
     "output_type": "execute_result"
    }
   ],
   "source": [
    "#description of the data\n",
    "\n",
    "data.describe()"
   ]
  },
  {
   "cell_type": "code",
   "execution_count": 73,
   "metadata": {},
   "outputs": [
    {
     "data": {
      "text/plain": [
       "Unnamed: 0.1              0\n",
       "Unnamed: 0                0\n",
       "restaurant name           0\n",
       "restaurant type           0\n",
       "rate (out of 5)          68\n",
       "num of ratings            0\n",
       "avg cost (two people)    57\n",
       "online_order              0\n",
       "table booking             0\n",
       "cuisines type             0\n",
       "area                      0\n",
       "local address             0\n",
       "dtype: int64"
      ]
     },
     "execution_count": 73,
     "metadata": {},
     "output_type": "execute_result"
    }
   ],
   "source": [
    "#chack for missing data\n",
    "\n",
    "data.isna().sum()"
   ]
  },
  {
   "cell_type": "code",
   "execution_count": 74,
   "metadata": {},
   "outputs": [],
   "source": [
    "#drop unnecessary columns \n",
    "\n",
    "data.drop(['Unnamed: 0.1', 'Unnamed: 0'], axis=1, inplace=True)"
   ]
  },
  {
   "cell_type": "code",
   "execution_count": 75,
   "metadata": {},
   "outputs": [],
   "source": [
    "#change column names to more Python friendly\n",
    "\n",
    "data.rename(columns={'restaurant name':'resturant_name', 'restaurant type':'resturant_type', 'rate (out of 5)':'rate', 'num of ratings':'num_of_ratings',\n",
    "                      'avg cost (two people)':'average_cost', 'table booking':'table_booking', 'cuisines type':'cuisines_type', \n",
    "                      'local address': 'local_address'}, inplace=True)"
   ]
  },
  {
   "cell_type": "code",
   "execution_count": 77,
   "metadata": {},
   "outputs": [
    {
     "data": {
      "text/plain": [
       "0                  FEELTHEROLL\n",
       "1                    L-81 CAFE\n",
       "2                       REFUEL\n",
       "3              BIRYANI CENTRAL\n",
       "4                      THE BBQ\n",
       "                 ...          \n",
       "7100                     ZOEYS\n",
       "7101    ZOROY LUXURY CHOCOLATE\n",
       "7102          ZUS DONER KEBAPS\n",
       "7103                     ZYARA\n",
       "7104                    ZYKSHA\n",
       "Name: resturant_name, Length: 7105, dtype: object"
      ]
     },
     "execution_count": 77,
     "metadata": {},
     "output_type": "execute_result"
    }
   ],
   "source": [
    "#clean resturant name from symbols\n",
    "\n",
    "import re\n",
    "\n",
    "def clean_text_row(text):\n",
    "    #remove symbols and illegal/corrupted values\n",
    "    cleaned_text = re.sub(r'[^a-zA-Z0-9\\- ]', '', text)\n",
    "\n",
    "    #capitalize the text\n",
    "    cleaned_text = cleaned_text.upper()\n",
    "\n",
    "    return cleaned_text.strip()\n",
    "\n",
    "\n",
    "#apply the cleaning function\n",
    "\n",
    "data['resturant_name'] = data['resturant_name'].apply(clean_text_row)\n",
    "data['resturant_name']"
   ]
  },
  {
   "cell_type": "code",
   "execution_count": 78,
   "metadata": {},
   "outputs": [],
   "source": [
    "#impute the missing data in the rate column with mean imputation\n",
    "\n",
    "data['average_cost'] = data['average_cost'].fillna(data['average_cost'].mean())\n",
    "data['rate'] = data['rate'].fillna(data['rate'].mean())"
   ]
  },
  {
   "cell_type": "code",
   "execution_count": 79,
   "metadata": {},
   "outputs": [
    {
     "data": {
      "text/plain": [
       "resturant_name    0\n",
       "resturant_type    0\n",
       "rate              0\n",
       "num_of_ratings    0\n",
       "average_cost      0\n",
       "online_order      0\n",
       "table_booking     0\n",
       "cuisines_type     0\n",
       "area              0\n",
       "local_address     0\n",
       "dtype: int64"
      ]
     },
     "execution_count": 79,
     "metadata": {},
     "output_type": "execute_result"
    }
   ],
   "source": [
    "#chack again for any missings\n",
    "\n",
    "data.isna().sum()"
   ]
  },
  {
   "cell_type": "code",
   "execution_count": 80,
   "metadata": {},
   "outputs": [],
   "source": [
    "#drop duplicated rows\n",
    "\n",
    "data = data.drop_duplicates()"
   ]
  },
  {
   "cell_type": "code",
   "execution_count": 81,
   "metadata": {},
   "outputs": [
    {
     "data": {
      "text/html": [
       "<div>\n",
       "<style scoped>\n",
       "    .dataframe tbody tr th:only-of-type {\n",
       "        vertical-align: middle;\n",
       "    }\n",
       "\n",
       "    .dataframe tbody tr th {\n",
       "        vertical-align: top;\n",
       "    }\n",
       "\n",
       "    .dataframe thead th {\n",
       "        text-align: right;\n",
       "    }\n",
       "</style>\n",
       "<table border=\"1\" class=\"dataframe\">\n",
       "  <thead>\n",
       "    <tr style=\"text-align: right;\">\n",
       "      <th></th>\n",
       "      <th>resturant_name</th>\n",
       "      <th>resturant_type</th>\n",
       "      <th>rate</th>\n",
       "      <th>num_of_ratings</th>\n",
       "      <th>average_cost</th>\n",
       "      <th>online_order</th>\n",
       "      <th>table_booking</th>\n",
       "      <th>cuisines_type</th>\n",
       "      <th>area</th>\n",
       "      <th>local_address</th>\n",
       "    </tr>\n",
       "  </thead>\n",
       "  <tbody>\n",
       "    <tr>\n",
       "      <th>0</th>\n",
       "      <td>FEELTHEROLL</td>\n",
       "      <td>Quick Bites</td>\n",
       "      <td>3.4</td>\n",
       "      <td>7</td>\n",
       "      <td>200.0</td>\n",
       "      <td>No</td>\n",
       "      <td>No</td>\n",
       "      <td>Fast Food</td>\n",
       "      <td>Bellandur</td>\n",
       "      <td>Bellandur</td>\n",
       "    </tr>\n",
       "    <tr>\n",
       "      <th>1</th>\n",
       "      <td>L-81 CAFE</td>\n",
       "      <td>Quick Bites</td>\n",
       "      <td>3.9</td>\n",
       "      <td>48</td>\n",
       "      <td>400.0</td>\n",
       "      <td>Yes</td>\n",
       "      <td>No</td>\n",
       "      <td>Fast Food, Beverages</td>\n",
       "      <td>Byresandra,Tavarekere,Madiwala</td>\n",
       "      <td>HSR</td>\n",
       "    </tr>\n",
       "    <tr>\n",
       "      <th>2</th>\n",
       "      <td>REFUEL</td>\n",
       "      <td>Cafe</td>\n",
       "      <td>3.7</td>\n",
       "      <td>37</td>\n",
       "      <td>400.0</td>\n",
       "      <td>Yes</td>\n",
       "      <td>No</td>\n",
       "      <td>Cafe, Beverages</td>\n",
       "      <td>Bannerghatta Road</td>\n",
       "      <td>Bannerghatta Road</td>\n",
       "    </tr>\n",
       "    <tr>\n",
       "      <th>3</th>\n",
       "      <td>BIRYANI CENTRAL</td>\n",
       "      <td>Casual Dining</td>\n",
       "      <td>2.7</td>\n",
       "      <td>135</td>\n",
       "      <td>550.0</td>\n",
       "      <td>Yes</td>\n",
       "      <td>No</td>\n",
       "      <td>Biryani, Mughlai, Chinese</td>\n",
       "      <td>Marathahalli</td>\n",
       "      <td>Marathahalli</td>\n",
       "    </tr>\n",
       "    <tr>\n",
       "      <th>4</th>\n",
       "      <td>THE BBQ</td>\n",
       "      <td>Casual Dining</td>\n",
       "      <td>2.8</td>\n",
       "      <td>40</td>\n",
       "      <td>700.0</td>\n",
       "      <td>Yes</td>\n",
       "      <td>No</td>\n",
       "      <td>BBQ, Continental, North Indian, Chinese, Bever...</td>\n",
       "      <td>Bellandur</td>\n",
       "      <td>Bellandur</td>\n",
       "    </tr>\n",
       "    <tr>\n",
       "      <th>...</th>\n",
       "      <td>...</td>\n",
       "      <td>...</td>\n",
       "      <td>...</td>\n",
       "      <td>...</td>\n",
       "      <td>...</td>\n",
       "      <td>...</td>\n",
       "      <td>...</td>\n",
       "      <td>...</td>\n",
       "      <td>...</td>\n",
       "      <td>...</td>\n",
       "    </tr>\n",
       "    <tr>\n",
       "      <th>7100</th>\n",
       "      <td>ZOEYS</td>\n",
       "      <td>Cafe</td>\n",
       "      <td>4.3</td>\n",
       "      <td>894</td>\n",
       "      <td>600.0</td>\n",
       "      <td>Yes</td>\n",
       "      <td>No</td>\n",
       "      <td>Cafe, Italian, Continental, Burger</td>\n",
       "      <td>Bellandur</td>\n",
       "      <td>Sarjapur Road</td>\n",
       "    </tr>\n",
       "    <tr>\n",
       "      <th>7101</th>\n",
       "      <td>ZOROY LUXURY CHOCOLATE</td>\n",
       "      <td>Dessert Parlor</td>\n",
       "      <td>4.0</td>\n",
       "      <td>68</td>\n",
       "      <td>250.0</td>\n",
       "      <td>Yes</td>\n",
       "      <td>No</td>\n",
       "      <td>Desserts</td>\n",
       "      <td>Brigade Road</td>\n",
       "      <td>Church Street</td>\n",
       "    </tr>\n",
       "    <tr>\n",
       "      <th>7102</th>\n",
       "      <td>ZUS DONER KEBAPS</td>\n",
       "      <td>Takeaway, Delivery</td>\n",
       "      <td>3.7</td>\n",
       "      <td>33</td>\n",
       "      <td>350.0</td>\n",
       "      <td>No</td>\n",
       "      <td>No</td>\n",
       "      <td>Turkish, Fast Food, Biryani, Chinese</td>\n",
       "      <td>Malleshwaram</td>\n",
       "      <td>RT Nagar</td>\n",
       "    </tr>\n",
       "    <tr>\n",
       "      <th>7103</th>\n",
       "      <td>ZYARA</td>\n",
       "      <td>Casual Dining</td>\n",
       "      <td>3.8</td>\n",
       "      <td>191</td>\n",
       "      <td>650.0</td>\n",
       "      <td>Yes</td>\n",
       "      <td>No</td>\n",
       "      <td>North Indian, Mughlai, Chinese</td>\n",
       "      <td>Kammanahalli</td>\n",
       "      <td>HBR Layout</td>\n",
       "    </tr>\n",
       "    <tr>\n",
       "      <th>7104</th>\n",
       "      <td>ZYKSHA</td>\n",
       "      <td>Food Truck</td>\n",
       "      <td>3.4</td>\n",
       "      <td>9</td>\n",
       "      <td>200.0</td>\n",
       "      <td>No</td>\n",
       "      <td>No</td>\n",
       "      <td>Fast Food</td>\n",
       "      <td>Bannerghatta Road</td>\n",
       "      <td>South Bangalore</td>\n",
       "    </tr>\n",
       "  </tbody>\n",
       "</table>\n",
       "<p>7100 rows × 10 columns</p>\n",
       "</div>"
      ],
      "text/plain": [
       "              resturant_name      resturant_type  rate  num_of_ratings  \\\n",
       "0                FEELTHEROLL         Quick Bites   3.4               7   \n",
       "1                  L-81 CAFE         Quick Bites   3.9              48   \n",
       "2                     REFUEL                Cafe   3.7              37   \n",
       "3            BIRYANI CENTRAL       Casual Dining   2.7             135   \n",
       "4                    THE BBQ       Casual Dining   2.8              40   \n",
       "...                      ...                 ...   ...             ...   \n",
       "7100                   ZOEYS                Cafe   4.3             894   \n",
       "7101  ZOROY LUXURY CHOCOLATE      Dessert Parlor   4.0              68   \n",
       "7102        ZUS DONER KEBAPS  Takeaway, Delivery   3.7              33   \n",
       "7103                   ZYARA       Casual Dining   3.8             191   \n",
       "7104                  ZYKSHA          Food Truck   3.4               9   \n",
       "\n",
       "      average_cost online_order table_booking  \\\n",
       "0            200.0           No            No   \n",
       "1            400.0          Yes            No   \n",
       "2            400.0          Yes            No   \n",
       "3            550.0          Yes            No   \n",
       "4            700.0          Yes            No   \n",
       "...            ...          ...           ...   \n",
       "7100         600.0          Yes            No   \n",
       "7101         250.0          Yes            No   \n",
       "7102         350.0           No            No   \n",
       "7103         650.0          Yes            No   \n",
       "7104         200.0           No            No   \n",
       "\n",
       "                                          cuisines_type  \\\n",
       "0                                             Fast Food   \n",
       "1                                  Fast Food, Beverages   \n",
       "2                                       Cafe, Beverages   \n",
       "3                             Biryani, Mughlai, Chinese   \n",
       "4     BBQ, Continental, North Indian, Chinese, Bever...   \n",
       "...                                                 ...   \n",
       "7100                 Cafe, Italian, Continental, Burger   \n",
       "7101                                           Desserts   \n",
       "7102               Turkish, Fast Food, Biryani, Chinese   \n",
       "7103                     North Indian, Mughlai, Chinese   \n",
       "7104                                          Fast Food   \n",
       "\n",
       "                                area      local_address  \n",
       "0                          Bellandur          Bellandur  \n",
       "1     Byresandra,Tavarekere,Madiwala                HSR  \n",
       "2                  Bannerghatta Road  Bannerghatta Road  \n",
       "3                       Marathahalli       Marathahalli  \n",
       "4                          Bellandur          Bellandur  \n",
       "...                              ...                ...  \n",
       "7100                       Bellandur      Sarjapur Road  \n",
       "7101                    Brigade Road      Church Street  \n",
       "7102                    Malleshwaram           RT Nagar  \n",
       "7103                    Kammanahalli         HBR Layout  \n",
       "7104               Bannerghatta Road    South Bangalore  \n",
       "\n",
       "[7100 rows x 10 columns]"
      ]
     },
     "execution_count": 81,
     "metadata": {},
     "output_type": "execute_result"
    }
   ],
   "source": [
    "data"
   ]
  },
  {
   "cell_type": "markdown",
   "metadata": {},
   "source": [
    "Exploratory Data Analysis"
   ]
  },
  {
   "cell_type": "code",
   "execution_count": 82,
   "metadata": {},
   "outputs": [],
   "source": [
    "#create a column 'count' to count each row\n",
    "\n",
    "data['count'] = 1"
   ]
  },
  {
   "cell_type": "code",
   "execution_count": 83,
   "metadata": {},
   "outputs": [],
   "source": [
    "#group the data by area and count the number of resturants by area\n",
    "\n",
    "most_populated = data.groupby('area')['count'].sum()"
   ]
  },
  {
   "cell_type": "code",
   "execution_count": 84,
   "metadata": {},
   "outputs": [
    {
     "data": {
      "image/png": "[encoded data removed]",
      "text/plain": [
       "<Figure size 720x432 with 1 Axes>"
      ]
     },
     "metadata": {
      "needs_background": "light"
     },
     "output_type": "display_data"
    }
   ],
   "source": [
    "#plot the top 15 most populated  with resturants areas\n",
    "top_15 = most_populated.nlargest(15)\n",
    "\n",
    "#set figure size\n",
    "plt.figure(figsize=(10, 6))\n",
    "sns.barplot(x=top_15.index, y=top_15.values, palette='viridis')\n",
    "\n",
    "# Add a title and labels\n",
    "plt.title('Top 15 Most Bussy Areas with Resturants')\n",
    "plt.xlabel('Areas')\n",
    "plt.ylabel('Count')\n",
    "\n",
    "# Rotate x-axis tick labels for better readability\n",
    "plt.xticks(rotation=90)\n",
    "\n",
    "# Show the plot\n",
    "plt.tight_layout()\n",
    "plt.show()"
   ]
  },
  {
   "cell_type": "code",
   "execution_count": 85,
   "metadata": {},
   "outputs": [
    {
     "data": {
      "image/png": "[encoded data removed]",
      "text/plain": [
       "<Figure size 720x432 with 1 Axes>"
      ]
     },
     "metadata": {
      "needs_background": "light"
     },
     "output_type": "display_data"
    }
   ],
   "source": [
    "#most common types of resturants\n",
    "\n",
    "#group data by resturant type\n",
    "common_resturants = data.groupby('resturant_type')['count'].sum()\n",
    "\n",
    "#select the 15 most common resturant types\n",
    "common_15_types = common_resturants.nlargest(15)\n",
    "\n",
    "#set figure size\n",
    "plt.figure(figsize=(10, 6))\n",
    "sns.barplot(x=common_15_types.index, y=common_15_types.values, palette='viridis')\n",
    "\n",
    "#add a title and labels\n",
    "plt.title('Top 15 Most Common Resturants')\n",
    "plt.xlabel('Resturant Type')\n",
    "plt.ylabel('Count')\n",
    "\n",
    "#rotate x-axis tick labels for better readability\n",
    "plt.xticks(rotation=90)\n",
    "\n",
    "#show the plot\n",
    "plt.tight_layout()\n",
    "plt.show()\n"
   ]
  },
  {
   "cell_type": "code",
   "execution_count": 130,
   "metadata": {},
   "outputs": [],
   "source": [
    "#most common type of resturant per area\n",
    "from collections import Counter\n",
    "\n",
    "#select only the top 15 most populated areas from the data\n",
    "areas_15 = data[data['area'].isin(top_15.index)]\n",
    "\n",
    "#select the most common resturant type per area\n",
    "area_type = areas_15.groupby('area')['resturant_type'].apply(list).reset_index(name='common_types')\n",
    "\n",
    "#create a function that selects the most common type\n",
    "def find_most_common_word(word_list):\n",
    "    word_counts = Counter(word_list)\n",
    "    most_common_word = word_counts.most_common(1)[0][0]\n",
    "    return most_common_word\n",
    "\n",
    "area_type['most_common_type'] = area_type['common_types'].apply(find_most_common_word)"
   ]
  },
  {
   "cell_type": "code",
   "execution_count": 131,
   "metadata": {},
   "outputs": [
    {
     "data": {
      "text/html": [
       "<div>\n",
       "<style scoped>\n",
       "    .dataframe tbody tr th:only-of-type {\n",
       "        vertical-align: middle;\n",
       "    }\n",
       "\n",
       "    .dataframe tbody tr th {\n",
       "        vertical-align: top;\n",
       "    }\n",
       "\n",
       "    .dataframe thead th {\n",
       "        text-align: right;\n",
       "    }\n",
       "</style>\n",
       "<table border=\"1\" class=\"dataframe\">\n",
       "  <thead>\n",
       "    <tr style=\"text-align: right;\">\n",
       "      <th></th>\n",
       "      <th>area</th>\n",
       "      <th>common_types</th>\n",
       "      <th>most_common_type</th>\n",
       "    </tr>\n",
       "  </thead>\n",
       "  <tbody>\n",
       "    <tr>\n",
       "      <th>0</th>\n",
       "      <td>Banashankari</td>\n",
       "      <td>[Casual Dining, Cafe, Cafe, Quick Bites, Casua...</td>\n",
       "      <td>Quick Bites</td>\n",
       "    </tr>\n",
       "    <tr>\n",
       "      <th>1</th>\n",
       "      <td>Bannerghatta Road</td>\n",
       "      <td>[Cafe, Casual Dining, Bar, Quick Bites, Delive...</td>\n",
       "      <td>Quick Bites</td>\n",
       "    </tr>\n",
       "    <tr>\n",
       "      <th>2</th>\n",
       "      <td>Basavanagudi</td>\n",
       "      <td>[Casual Dining, Casual Dining, Cafe, Casual Di...</td>\n",
       "      <td>Quick Bites</td>\n",
       "    </tr>\n",
       "    <tr>\n",
       "      <th>3</th>\n",
       "      <td>Bellandur</td>\n",
       "      <td>[Quick Bites, Casual Dining, Quick Bites, Casu...</td>\n",
       "      <td>Quick Bites</td>\n",
       "    </tr>\n",
       "    <tr>\n",
       "      <th>4</th>\n",
       "      <td>Brigade Road</td>\n",
       "      <td>[Casual Dining, Bar, Casual Dining, Bar, Casua...</td>\n",
       "      <td>Casual Dining</td>\n",
       "    </tr>\n",
       "    <tr>\n",
       "      <th>5</th>\n",
       "      <td>Brookefield</td>\n",
       "      <td>[Quick Bites, Quick Bites, Quick Bites, Quick ...</td>\n",
       "      <td>Quick Bites</td>\n",
       "    </tr>\n",
       "    <tr>\n",
       "      <th>6</th>\n",
       "      <td>Byresandra,Tavarekere,Madiwala</td>\n",
       "      <td>[Quick Bites, Quick Bites, Casual Dining, Fine...</td>\n",
       "      <td>Quick Bites</td>\n",
       "    </tr>\n",
       "    <tr>\n",
       "      <th>7</th>\n",
       "      <td>Electronic City</td>\n",
       "      <td>[Quick Bites, Cafe, Fine Dining, Casual Dining...</td>\n",
       "      <td>Quick Bites</td>\n",
       "    </tr>\n",
       "    <tr>\n",
       "      <th>8</th>\n",
       "      <td>HSR</td>\n",
       "      <td>[Delivery, Takeaway, Delivery, Casual Dining, ...</td>\n",
       "      <td>Quick Bites</td>\n",
       "    </tr>\n",
       "    <tr>\n",
       "      <th>9</th>\n",
       "      <td>Indiranagar</td>\n",
       "      <td>[Takeaway, Delivery, Casual Dining, Bar, Deliv...</td>\n",
       "      <td>Quick Bites</td>\n",
       "    </tr>\n",
       "    <tr>\n",
       "      <th>10</th>\n",
       "      <td>Kalyan Nagar</td>\n",
       "      <td>[Cafe, Casual Dining, Quick Bites, Casual Dini...</td>\n",
       "      <td>Quick Bites</td>\n",
       "    </tr>\n",
       "    <tr>\n",
       "      <th>11</th>\n",
       "      <td>Malleshwaram</td>\n",
       "      <td>[Pub, Quick Bites, Fine Dining, Bar, Casual Di...</td>\n",
       "      <td>Quick Bites</td>\n",
       "    </tr>\n",
       "    <tr>\n",
       "      <th>12</th>\n",
       "      <td>Marathahalli</td>\n",
       "      <td>[Casual Dining, Delivery, Casual Dining, Quick...</td>\n",
       "      <td>Quick Bites</td>\n",
       "    </tr>\n",
       "    <tr>\n",
       "      <th>13</th>\n",
       "      <td>New BEL Road</td>\n",
       "      <td>[Bakery, Quick Bites, Quick Bites, Quick Bites...</td>\n",
       "      <td>Quick Bites</td>\n",
       "    </tr>\n",
       "    <tr>\n",
       "      <th>14</th>\n",
       "      <td>Whitefield</td>\n",
       "      <td>[Takeaway, Delivery, Takeaway, Delivery, Casua...</td>\n",
       "      <td>Quick Bites</td>\n",
       "    </tr>\n",
       "  </tbody>\n",
       "</table>\n",
       "</div>"
      ],
      "text/plain": [
       "                              area  \\\n",
       "0                     Banashankari   \n",
       "1                Bannerghatta Road   \n",
       "2                     Basavanagudi   \n",
       "3                        Bellandur   \n",
       "4                     Brigade Road   \n",
       "5                      Brookefield   \n",
       "6   Byresandra,Tavarekere,Madiwala   \n",
       "7                  Electronic City   \n",
       "8                              HSR   \n",
       "9                      Indiranagar   \n",
       "10                    Kalyan Nagar   \n",
       "11                    Malleshwaram   \n",
       "12                    Marathahalli   \n",
       "13                    New BEL Road   \n",
       "14                      Whitefield   \n",
       "\n",
       "                                         common_types most_common_type  \n",
       "0   [Casual Dining, Cafe, Cafe, Quick Bites, Casua...      Quick Bites  \n",
       "1   [Cafe, Casual Dining, Bar, Quick Bites, Delive...      Quick Bites  \n",
       "2   [Casual Dining, Casual Dining, Cafe, Casual Di...      Quick Bites  \n",
       "3   [Quick Bites, Casual Dining, Quick Bites, Casu...      Quick Bites  \n",
       "4   [Casual Dining, Bar, Casual Dining, Bar, Casua...    Casual Dining  \n",
       "5   [Quick Bites, Quick Bites, Quick Bites, Quick ...      Quick Bites  \n",
       "6   [Quick Bites, Quick Bites, Casual Dining, Fine...      Quick Bites  \n",
       "7   [Quick Bites, Cafe, Fine Dining, Casual Dining...      Quick Bites  \n",
       "8   [Delivery, Takeaway, Delivery, Casual Dining, ...      Quick Bites  \n",
       "9   [Takeaway, Delivery, Casual Dining, Bar, Deliv...      Quick Bites  \n",
       "10  [Cafe, Casual Dining, Quick Bites, Casual Dini...      Quick Bites  \n",
       "11  [Pub, Quick Bites, Fine Dining, Bar, Casual Di...      Quick Bites  \n",
       "12  [Casual Dining, Delivery, Casual Dining, Quick...      Quick Bites  \n",
       "13  [Bakery, Quick Bites, Quick Bites, Quick Bites...      Quick Bites  \n",
       "14  [Takeaway, Delivery, Takeaway, Delivery, Casua...      Quick Bites  "
      ]
     },
     "execution_count": 131,
     "metadata": {},
     "output_type": "execute_result"
    }
   ],
   "source": [
    "area_type"
   ]
  },
  {
   "cell_type": "code",
   "execution_count": 87,
   "metadata": {},
   "outputs": [
    {
     "data": {
      "image/png": "[encoded data removed]",
      "text/plain": [
       "<Figure size 720x432 with 1 Axes>"
      ]
     },
     "metadata": {
      "needs_background": "light"
     },
     "output_type": "display_data"
    }
   ],
   "source": [
    "#mean resturants rate per area\n",
    "\n",
    "area_rate = areas_15.groupby('area')['rate'].mean()\n",
    "\n",
    "#plot the mean rate per area\n",
    "#set figure size\n",
    "plt.figure(figsize=(10, 6))\n",
    "sns.barplot(x=area_rate.index, y=area_rate.values, palette='viridis')\n",
    "\n",
    "#add a title and labels\n",
    "plt.title('Average resturant rate per area')\n",
    "plt.xlabel('Area')\n",
    "plt.ylabel('Rate')\n",
    "\n",
    "#rotate x-axis tick labels for better readability\n",
    "plt.xticks(rotation=90)\n",
    "\n",
    "#show the plot\n",
    "plt.tight_layout()\n",
    "plt.show()"
   ]
  },
  {
   "cell_type": "code",
   "execution_count": 88,
   "metadata": {},
   "outputs": [
    {
     "data": {
      "image/png": "[encoded data removed]",
      "text/plain": [
       "<Figure size 720x432 with 1 Axes>"
      ]
     },
     "metadata": {
      "needs_background": "light"
     },
     "output_type": "display_data"
    }
   ],
   "source": [
    "#mean resturants cost per area\n",
    "\n",
    "area_rate = areas_15.groupby('area')['average_cost'].mean()\n",
    "\n",
    "#plot the mean rate per area\n",
    "#set figure size\n",
    "plt.figure(figsize=(10, 6))\n",
    "sns.barplot(x=area_rate.index, y=area_rate.values, palette='viridis')\n",
    "\n",
    "#add a title and labels\n",
    "plt.title('Average resturant mean price for two per area')\n",
    "plt.xlabel('Area')\n",
    "plt.ylabel('Price for two')\n",
    "\n",
    "#rotate x-axis tick labels for better readability\n",
    "plt.xticks(rotation=90)\n",
    "\n",
    "#show the plot\n",
    "plt.tight_layout()\n",
    "plt.show()"
   ]
  },
  {
   "cell_type": "code",
   "execution_count": 133,
   "metadata": {},
   "outputs": [],
   "source": [
    "#concatenate the cuisine types per area\n",
    "area_cuisine_concat = areas_15.groupby('area')['cuisines_type'].apply(list).reset_index(name='cuisine_list')\n",
    "\n",
    "cuisine_counts = areas_15['cuisines_type'].value_counts()\n",
    "\n",
    "#most common cuisine per area\n",
    "area_cuisine_concat['most_common_cuisine'] = area_cuisine_concat['cuisine_list'].apply(find_most_common_word)"
   ]
  },
  {
   "cell_type": "code",
   "execution_count": 134,
   "metadata": {},
   "outputs": [
    {
     "data": {
      "text/html": [
       "<div>\n",
       "<style scoped>\n",
       "    .dataframe tbody tr th:only-of-type {\n",
       "        vertical-align: middle;\n",
       "    }\n",
       "\n",
       "    .dataframe tbody tr th {\n",
       "        vertical-align: top;\n",
       "    }\n",
       "\n",
       "    .dataframe thead th {\n",
       "        text-align: right;\n",
       "    }\n",
       "</style>\n",
       "<table border=\"1\" class=\"dataframe\">\n",
       "  <thead>\n",
       "    <tr style=\"text-align: right;\">\n",
       "      <th></th>\n",
       "      <th>area</th>\n",
       "      <th>cuisine_list</th>\n",
       "      <th>most_common_cuisine</th>\n",
       "    </tr>\n",
       "  </thead>\n",
       "  <tbody>\n",
       "    <tr>\n",
       "      <th>0</th>\n",
       "      <td>Banashankari</td>\n",
       "      <td>[Italian, Cafe, Fast Food, Cafe, Chinese, Cont...</td>\n",
       "      <td>South Indian</td>\n",
       "    </tr>\n",
       "    <tr>\n",
       "      <th>1</th>\n",
       "      <td>Bannerghatta Road</td>\n",
       "      <td>[Cafe, Beverages, North Indian, South Indian, ...</td>\n",
       "      <td>North Indian, Chinese</td>\n",
       "    </tr>\n",
       "    <tr>\n",
       "      <th>2</th>\n",
       "      <td>Basavanagudi</td>\n",
       "      <td>[Pizza, Salad, Continental, Cafe, South Indian...</td>\n",
       "      <td>South Indian</td>\n",
       "    </tr>\n",
       "    <tr>\n",
       "      <th>3</th>\n",
       "      <td>Bellandur</td>\n",
       "      <td>[Fast Food, BBQ, Continental, North Indian, Ch...</td>\n",
       "      <td>North Indian</td>\n",
       "    </tr>\n",
       "    <tr>\n",
       "      <th>4</th>\n",
       "      <td>Brigade Road</td>\n",
       "      <td>[Asian, Japanese, Thai, Malaysian, Vietnamese,...</td>\n",
       "      <td>South Indian</td>\n",
       "    </tr>\n",
       "    <tr>\n",
       "      <th>5</th>\n",
       "      <td>Brookefield</td>\n",
       "      <td>[South Indian, North Indian, Chinese, North In...</td>\n",
       "      <td>North Indian</td>\n",
       "    </tr>\n",
       "    <tr>\n",
       "      <th>6</th>\n",
       "      <td>Byresandra,Tavarekere,Madiwala</td>\n",
       "      <td>[Fast Food, Beverages, Arabian, Sandwich, Roll...</td>\n",
       "      <td>North Indian</td>\n",
       "    </tr>\n",
       "    <tr>\n",
       "      <th>7</th>\n",
       "      <td>Electronic City</td>\n",
       "      <td>[Biryani, Kebab, Cafe, North Indian, Asian, Co...</td>\n",
       "      <td>North Indian, Chinese</td>\n",
       "    </tr>\n",
       "    <tr>\n",
       "      <th>8</th>\n",
       "      <td>HSR</td>\n",
       "      <td>[North Indian, Chinese, Mithai, Street Food, N...</td>\n",
       "      <td>North Indian, Chinese</td>\n",
       "    </tr>\n",
       "    <tr>\n",
       "      <th>9</th>\n",
       "      <td>Indiranagar</td>\n",
       "      <td>[North Indian, Chinese, Continental, North Ind...</td>\n",
       "      <td>North Indian</td>\n",
       "    </tr>\n",
       "    <tr>\n",
       "      <th>10</th>\n",
       "      <td>Kalyan Nagar</td>\n",
       "      <td>[Cafe, Fast Food, Chinese, Beverages, Kerala, ...</td>\n",
       "      <td>North Indian, Chinese</td>\n",
       "    </tr>\n",
       "    <tr>\n",
       "      <th>11</th>\n",
       "      <td>Malleshwaram</td>\n",
       "      <td>[Chinese, Continental, North Indian, Street Fo...</td>\n",
       "      <td>South Indian</td>\n",
       "    </tr>\n",
       "    <tr>\n",
       "      <th>12</th>\n",
       "      <td>Marathahalli</td>\n",
       "      <td>[Biryani, Mughlai, Chinese, North Indian, Chin...</td>\n",
       "      <td>North Indian, Chinese</td>\n",
       "    </tr>\n",
       "    <tr>\n",
       "      <th>13</th>\n",
       "      <td>New BEL Road</td>\n",
       "      <td>[Bakery, Desserts, North Indian, Fast Food, No...</td>\n",
       "      <td>North Indian</td>\n",
       "    </tr>\n",
       "    <tr>\n",
       "      <th>14</th>\n",
       "      <td>Whitefield</td>\n",
       "      <td>[Mughlai, Biryani, Chinese, North Indian, Fast...</td>\n",
       "      <td>North Indian</td>\n",
       "    </tr>\n",
       "  </tbody>\n",
       "</table>\n",
       "</div>"
      ],
      "text/plain": [
       "                              area  \\\n",
       "0                     Banashankari   \n",
       "1                Bannerghatta Road   \n",
       "2                     Basavanagudi   \n",
       "3                        Bellandur   \n",
       "4                     Brigade Road   \n",
       "5                      Brookefield   \n",
       "6   Byresandra,Tavarekere,Madiwala   \n",
       "7                  Electronic City   \n",
       "8                              HSR   \n",
       "9                      Indiranagar   \n",
       "10                    Kalyan Nagar   \n",
       "11                    Malleshwaram   \n",
       "12                    Marathahalli   \n",
       "13                    New BEL Road   \n",
       "14                      Whitefield   \n",
       "\n",
       "                                         cuisine_list    most_common_cuisine  \n",
       "0   [Italian, Cafe, Fast Food, Cafe, Chinese, Cont...           South Indian  \n",
       "1   [Cafe, Beverages, North Indian, South Indian, ...  North Indian, Chinese  \n",
       "2   [Pizza, Salad, Continental, Cafe, South Indian...           South Indian  \n",
       "3   [Fast Food, BBQ, Continental, North Indian, Ch...           North Indian  \n",
       "4   [Asian, Japanese, Thai, Malaysian, Vietnamese,...           South Indian  \n",
       "5   [South Indian, North Indian, Chinese, North In...           North Indian  \n",
       "6   [Fast Food, Beverages, Arabian, Sandwich, Roll...           North Indian  \n",
       "7   [Biryani, Kebab, Cafe, North Indian, Asian, Co...  North Indian, Chinese  \n",
       "8   [North Indian, Chinese, Mithai, Street Food, N...  North Indian, Chinese  \n",
       "9   [North Indian, Chinese, Continental, North Ind...           North Indian  \n",
       "10  [Cafe, Fast Food, Chinese, Beverages, Kerala, ...  North Indian, Chinese  \n",
       "11  [Chinese, Continental, North Indian, Street Fo...           South Indian  \n",
       "12  [Biryani, Mughlai, Chinese, North Indian, Chin...  North Indian, Chinese  \n",
       "13  [Bakery, Desserts, North Indian, Fast Food, No...           North Indian  \n",
       "14  [Mughlai, Biryani, Chinese, North Indian, Fast...           North Indian  "
      ]
     },
     "execution_count": 134,
     "metadata": {},
     "output_type": "execute_result"
    }
   ],
   "source": [
    "area_cuisine_concat"
   ]
  },
  {
   "cell_type": "code",
   "execution_count": 135,
   "metadata": {},
   "outputs": [
    {
     "data": {
      "image/png": "[encoded data removed]",
      "text/plain": [
       "<Figure size 432x288 with 1 Axes>"
      ]
     },
     "metadata": {},
     "output_type": "display_data"
    }
   ],
   "source": [
    "# Limit to the top 15 most common cuisine types for all of the areal\n",
    "top_cuisine_counts = cuisine_counts.head(15)\n",
    "\n",
    "percentage_threshold = 10\n",
    "\n",
    "#reate a pie plot\n",
    "fig, ax = plt.subplots()\n",
    "ax.pie(top_cuisine_counts, \n",
    "       labels=[label if value >= percentage_threshold else '' for label, \n",
    "               value in top_cuisine_counts.items()],\n",
    "                autopct=lambda p: f'{p:.1f}%' if p >= percentage_threshold else '', \n",
    "                startangle=60)\n",
    "ax.axis('equal')  \n",
    "fig.patch.set_facecolor('white')\n",
    "\n",
    "# Set title\n",
    "ax.set_title('Top 15 Cuisine Types for all of the areas', pad=50)\n",
    "\n",
    "plt.tight_layout()\n",
    "plt.show()"
   ]
  },
  {
   "cell_type": "code",
   "execution_count": 20,
   "metadata": {},
   "outputs": [
    {
     "data": {
      "image/png": "[encoded data removed]",
      "text/plain": [
       "<Figure size 720x432 with 1 Axes>"
      ]
     },
     "metadata": {
      "needs_background": "light"
     },
     "output_type": "display_data"
    }
   ],
   "source": [
    "#distribution of rate\n",
    "\n",
    "plt.figure(figsize=(10, 6))\n",
    "sns.histplot(data, x='rate',bins=5)\n",
    "\n",
    "# Add a title and labels\n",
    "plt.title('Distribution of Rate')\n",
    "plt.xlabel('Rate')\n",
    "plt.ylabel('Count')\n",
    "\n",
    "# Rotate x-axis tick labels for better readability\n",
    "plt.xticks(rotation=90)\n",
    "\n",
    "# Show the plot\n",
    "plt.tight_layout()\n",
    "plt.show()"
   ]
  },
  {
   "cell_type": "code",
   "execution_count": 21,
   "metadata": {},
   "outputs": [
    {
     "data": {
      "image/png": "[encoded data removed]",
      "text/plain": [
       "<Figure size 360x288 with 1 Axes>"
      ]
     },
     "metadata": {
      "needs_background": "light"
     },
     "output_type": "display_data"
    }
   ],
   "source": [
    "#distribution of online orders\n",
    "\n",
    "plt.figure(figsize=(5, 4))\n",
    "sns.histplot(data, x='online_order')\n",
    "\n",
    "# Add a title and labels\n",
    "plt.title('Distribution of Online Order')\n",
    "plt.xlabel('Online Order Option')\n",
    "plt.ylabel('Count')\n",
    "\n",
    "# Rotate x-axis tick labels for better readability\n",
    "plt.xticks(rotation=90)\n",
    "\n",
    "# Show the plot\n",
    "plt.tight_layout()\n",
    "plt.show()"
   ]
  },
  {
   "cell_type": "code",
   "execution_count": 22,
   "metadata": {},
   "outputs": [
    {
     "data": {
      "image/png": "[encoded data removed]",
      "text/plain": [
       "<Figure size 360x288 with 1 Axes>"
      ]
     },
     "metadata": {
      "needs_background": "light"
     },
     "output_type": "display_data"
    }
   ],
   "source": [
    "#distribution of table booking\n",
    "\n",
    "plt.figure(figsize=(5, 4))\n",
    "sns.histplot(data, x='table_booking')\n",
    "\n",
    "# Add a title and labels\n",
    "plt.title('Distribution of Table Booking')\n",
    "plt.xlabel('Table Booking Option')\n",
    "plt.ylabel('Count')\n",
    "\n",
    "# Show the plot\n",
    "plt.tight_layout()\n",
    "plt.show()"
   ]
  },
  {
   "cell_type": "code",
   "execution_count": 23,
   "metadata": {},
   "outputs": [
    {
     "data": {
      "image/png": "[encoded data removed]",
      "text/plain": [
       "<Figure size 720x432 with 1 Axes>"
      ]
     },
     "metadata": {
      "needs_background": "light"
     },
     "output_type": "display_data"
    }
   ],
   "source": [
    "data\n",
    "\n",
    "#correlation between rate and average cost\n",
    "plt.figure(figsize=(10, 6))\n",
    "sns.scatterplot(x=\"rate\", y=\"average_cost\", data=data)\n",
    "\n",
    "plt.title('Correlation Between Price and Rate')\n",
    "plt.xlabel('Resturant Rate')\n",
    "plt.ylabel('Average cost of meal')\n",
    "\n",
    "plt.tight_layout()\n",
    "plt.show()\n",
    "#correlation between rate and area\n"
   ]
  }
 ],
 "metadata": {
  "kernelspec": {
   "display_name": "base",
   "language": "python",
   "name": "python3"
  },
  "language_info": {
   "codemirror_mode": {
    "name": "ipython",
    "version": 3
   },
   "file_extension": ".py",
   "mimetype": "text/x-python",
   "name": "python",
   "nbconvert_exporter": "python",
   "pygments_lexer": "ipython3",
   "version": "3.9.12"
  },
  "orig_nbformat": 4
 },
 "nbformat": 4,
 "nbformat_minor": 2
}
